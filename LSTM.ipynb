{
 "cells": [
  {
   "cell_type": "code",
   "execution_count": 33,
   "metadata": {},
   "outputs": [],
   "source": [
    "import pandas as pd\n",
    "import numpy as np\n",
    "\n",
    "import matplotlib.pyplot as plt\n",
    "#import seaborn as sns\n",
    "from sklearn.metrics import classification_report, confusion_matrix, roc_auc_score, log_loss\n",
    "\n",
    "from tensorflow.keras.models import Sequential\n",
    "from tensorflow.keras.layers import InputLayer, LSTM, Dense, Dropout, BatchNormalization\n",
    "from tensorflow.keras.callbacks import EarlyStopping, ModelCheckpoint\n",
    "from tensorflow.keras.optimizers import Adam\n",
    "from tensorflow.keras.losses import SparseCategoricalCrossentropy\n",
    "\n",
    "from tensorflow.keras.models import load_model"
   ]
  },
  {
   "cell_type": "code",
   "execution_count": 38,
   "metadata": {},
   "outputs": [],
   "source": [
    "def lstm_prep(df,window_size):\n",
    "    df_as_np = df.to_numpy()\n",
    "    X = []\n",
    "    y = []\n",
    "    for i in range(len(df_as_np)-window_size):\n",
    "        row = [r for r in df_as_np[i:i+window_size]]\n",
    "        X.append(row)\n",
    "        label = df_as_np[i+window_size][0]\n",
    "        y.append(label)\n",
    "    return np.array(X), np.array(y)\n",
    "\n",
    "def predict_lstm(X_train, X_val, X_test, model):\n",
    "    test_prob = model.predict(X_test)\n",
    "    test_pred = np.argmax(test_prob, axis=1)\n",
    "    train_prob = model.predict(X_train)\n",
    "    train_pred = np.argmax(train_prob, axis=1)\n",
    "    val_prob = model.predict(X_val)\n",
    "    val_pred = np.argmax(val_prob, axis=1)\n",
    "    return test_pred, test_prob, train_pred, train_prob, val_pred, val_prob\n",
    "\n",
    "def cfm_metrics(test_cfm):\n",
    "    positive = np.sum(np.diag(test_cfm))\n",
    "    total_samples = np.sum(test_cfm)\n",
    "    negative = total_samples - positive\n",
    "    return positive, negative\n",
    "\n",
    "def classification_results(y_test, y_train, y_val, model, train_pred, val_pred, test_pred, train_prob, val_prob, test_prob):\n",
    "    test_cfm = confusion_matrix(y_test, test_pred)\n",
    "    val_cfm = confusion_matrix(y_val, val_pred)\n",
    "    train_cfm = confusion_matrix(y_train, train_pred)\n",
    "\n",
    "    train_cfm_summary = cfm_metrics(train_cfm)\n",
    "    test_cfm_summary = cfm_metrics(test_cfm)\n",
    "    val_cfm_summary = cfm_metrics(val_cfm)\n",
    "\n",
    "    train_val_test = pd.DataFrame([[train_cfm_summary[0] / (train_cfm_summary[1] + train_cfm_summary[0]), log_loss(y_train, train_prob), roc_auc_score(y_train, train_prob, multi_class='ovr')],\n",
    "                                      [val_cfm_summary[0] / (val_cfm_summary[1] + val_cfm_summary[0]), log_loss(y_val, val_prob), roc_auc_score(y_val, val_prob, multi_class='ovr')],\n",
    "                                      [test_cfm_summary[0] / (test_cfm_summary[1] + test_cfm_summary[0]), log_loss(y_test, test_prob), roc_auc_score(y_test, test_prob, multi_class='ovr')]],\n",
    "                                     columns=['Accuracy', 'Log Loss', 'ROC_AUC'], index=['Train', 'Validation', 'Test']).T\n",
    "    print(train_val_test)\n",
    "    print('Training: ')\n",
    "    print(classification_report(y_train, train_pred))\n",
    "    print('Validation: ')\n",
    "    print(classification_report(y_val, val_pred))\n",
    "    print('Testing: ')\n",
    "    print(classification_report(y_test, test_pred))"
   ]
  },
  {
   "cell_type": "markdown",
   "metadata": {},
   "source": [
    "# SPY"
   ]
  },
  {
   "cell_type": "code",
   "execution_count": 45,
   "metadata": {},
   "outputs": [],
   "source": [
    "spy = pd.read_pickle('SPY.pkl')\n",
    "spy['LABEL'] = spy['LABEL'].shift(-1)\n",
    "spy = spy.dropna()"
   ]
  },
  {
   "cell_type": "code",
   "execution_count": 46,
   "metadata": {},
   "outputs": [
    {
     "name": "stdout",
     "output_type": "stream",
     "text": [
      "(6249, 20, 86) (6249,)\n",
      "(4375, 20, 86) (4375,) (624, 20, 86) (624,) (1250, 20, 86) (1250,)\n"
     ]
    }
   ],
   "source": [
    "X,y = lstm_prep(spy, 20)\n",
    "print(X.shape, y.shape)\n",
    "# Train-Test-Validation Split\n",
    "train_size = int(len(X) * 0.8)\n",
    "val_size = int(len(X) * 0.1)\n",
    "\n",
    "X_train, y_train = X[:train_size-val_size], y[:train_size-val_size]\n",
    "X_val, y_val = X[train_size-val_size:train_size], y[train_size-val_size:train_size]\n",
    "X_test, y_test = X[train_size:], y[train_size:]\n",
    "print(X_train.shape, y_train.shape,X_val.shape, y_val.shape,X_test.shape, y_test.shape)"
   ]
  },
  {
   "cell_type": "code",
   "execution_count": 47,
   "metadata": {},
   "outputs": [
    {
     "name": "stdout",
     "output_type": "stream",
     "text": [
      "INFO:tensorflow:Assets written to: model0/assets\n"
     ]
    },
    {
     "name": "stderr",
     "output_type": "stream",
     "text": [
      "INFO:tensorflow:Assets written to: model0/assets\n"
     ]
    },
    {
     "name": "stdout",
     "output_type": "stream",
     "text": [
      "INFO:tensorflow:Assets written to: model0/assets\n"
     ]
    },
    {
     "name": "stderr",
     "output_type": "stream",
     "text": [
      "INFO:tensorflow:Assets written to: model0/assets\n"
     ]
    },
    {
     "name": "stdout",
     "output_type": "stream",
     "text": [
      "INFO:tensorflow:Assets written to: model0/assets\n"
     ]
    },
    {
     "name": "stderr",
     "output_type": "stream",
     "text": [
      "INFO:tensorflow:Assets written to: model0/assets\n"
     ]
    },
    {
     "name": "stdout",
     "output_type": "stream",
     "text": [
      "INFO:tensorflow:Assets written to: model0/assets\n"
     ]
    },
    {
     "name": "stderr",
     "output_type": "stream",
     "text": [
      "INFO:tensorflow:Assets written to: model0/assets\n"
     ]
    },
    {
     "name": "stdout",
     "output_type": "stream",
     "text": [
      "INFO:tensorflow:Assets written to: model0/assets\n"
     ]
    },
    {
     "name": "stderr",
     "output_type": "stream",
     "text": [
      "INFO:tensorflow:Assets written to: model0/assets\n"
     ]
    },
    {
     "name": "stdout",
     "output_type": "stream",
     "text": [
      "INFO:tensorflow:Assets written to: model0/assets\n"
     ]
    },
    {
     "name": "stderr",
     "output_type": "stream",
     "text": [
      "INFO:tensorflow:Assets written to: model0/assets\n"
     ]
    },
    {
     "name": "stdout",
     "output_type": "stream",
     "text": [
      "INFO:tensorflow:Assets written to: model0/assets\n"
     ]
    },
    {
     "name": "stderr",
     "output_type": "stream",
     "text": [
      "INFO:tensorflow:Assets written to: model0/assets\n"
     ]
    },
    {
     "data": {
      "image/png": "[encoded data removed]",
      "text/plain": [
       "<Figure size 640x480 with 1 Axes>"
      ]
     },
     "metadata": {},
     "output_type": "display_data"
    }
   ],
   "source": [
    "# LSTM\n",
    "model0 = Sequential()\n",
    "model0.add(InputLayer((20, 86)))\n",
    "model0.add(LSTM(64))\n",
    "model0.add(BatchNormalization())\n",
    "model0.add(Dropout(0.2)) \n",
    "model0.add(Dense(16, 'relu'))\n",
    "model0.add(Dense(8, 'softmax'))  \n",
    "\n",
    "early_stopping = EarlyStopping(monitor='val_loss', patience=5, restore_best_weights=True)\n",
    "cp = ModelCheckpoint('model0/', save_best_only=True)\n",
    "model0.compile(loss=SparseCategoricalCrossentropy(), optimizer=Adam(learning_rate=.001))\n",
    "history = model0.fit(X_train, y_train, validation_data=(X_val, y_val), epochs=50, callbacks=[early_stopping, cp], verbose=0)\n",
    "\n",
    "# Plot Loss\n",
    "plt.plot(history.history['loss'], label='Training Loss')\n",
    "plt.plot(history.history['val_loss'], label='Validation Loss')\n",
    "plt.xlabel('Epochs')\n",
    "plt.ylabel('Loss')\n",
    "plt.legend()\n",
    "plt.show()"
   ]
  },
  {
   "cell_type": "code",
   "execution_count": 48,
   "metadata": {},
   "outputs": [
    {
     "name": "stdout",
     "output_type": "stream",
     "text": [
      "40/40 [==============================] - 1s 5ms/step\n",
      "137/137 [==============================] - 1s 5ms/step\n",
      "20/20 [==============================] - 0s 5ms/step\n",
      "             Train  Validation      Test\n",
      "Accuracy  0.336000    0.307692  0.328000\n",
      "Log Loss  1.777228    1.858061  1.804873\n",
      "ROC_AUC   0.637475    0.535138  0.550470\n",
      "Training: \n",
      "              precision    recall  f1-score   support\n",
      "\n",
      "         0.0       0.33      0.81      0.47      1305\n",
      "         1.0       0.31      0.05      0.09       553\n",
      "         2.0       0.36      0.37      0.36      1030\n",
      "         3.0       0.24      0.02      0.04       529\n",
      "         4.0       0.00      0.00      0.00       191\n",
      "         5.0       0.00      0.00      0.00       270\n",
      "         6.0       0.00      0.00      0.00       300\n",
      "         7.0       0.00      0.00      0.00       197\n",
      "\n",
      "    accuracy                           0.34      4375\n",
      "   macro avg       0.16      0.16      0.12      4375\n",
      "weighted avg       0.25      0.34      0.24      4375\n",
      "\n",
      "Validation: \n",
      "              precision    recall  f1-score   support\n",
      "\n",
      "         0.0       0.33      0.79      0.46       196\n",
      "         1.0       0.25      0.05      0.08        82\n",
      "         2.0       0.25      0.23      0.24       137\n",
      "         3.0       0.25      0.01      0.03        75\n",
      "         4.0       0.00      0.00      0.00        24\n",
      "         5.0       0.00      0.00      0.00        35\n",
      "         6.0       0.00      0.00      0.00        39\n",
      "         7.0       0.00      0.00      0.00        36\n",
      "\n",
      "    accuracy                           0.31       624\n",
      "   macro avg       0.13      0.14      0.10       624\n",
      "weighted avg       0.22      0.31      0.21       624\n",
      "\n",
      "Testing: \n",
      "              precision    recall  f1-score   support\n",
      "\n",
      "         0.0       0.35      0.80      0.49       417\n",
      "         1.0       0.21      0.07      0.10       160\n",
      "         2.0       0.29      0.22      0.25       277\n",
      "         3.0       0.06      0.01      0.02       156\n",
      "         4.0       0.00      0.00      0.00        44\n",
      "         5.0       0.00      0.00      0.00        78\n",
      "         6.0       0.00      0.00      0.00        67\n",
      "         7.0       0.00      0.00      0.00        51\n",
      "\n",
      "    accuracy                           0.33      1250\n",
      "   macro avg       0.11      0.14      0.11      1250\n",
      "weighted avg       0.22      0.33      0.24      1250\n",
      "\n"
     ]
    },
    {
     "name": "stderr",
     "output_type": "stream",
     "text": [
      "/Users/tom/anaconda3/lib/python3.10/site-packages/sklearn/metrics/_classification.py:1471: UndefinedMetricWarning: Precision and F-score are ill-defined and being set to 0.0 in labels with no predicted samples. Use `zero_division` parameter to control this behavior.\n",
      "  _warn_prf(average, modifier, msg_start, len(result))\n",
      "/Users/tom/anaconda3/lib/python3.10/site-packages/sklearn/metrics/_classification.py:1471: UndefinedMetricWarning: Precision and F-score are ill-defined and being set to 0.0 in labels with no predicted samples. Use `zero_division` parameter to control this behavior.\n",
      "  _warn_prf(average, modifier, msg_start, len(result))\n",
      "/Users/tom/anaconda3/lib/python3.10/site-packages/sklearn/metrics/_classification.py:1471: UndefinedMetricWarning: Precision and F-score are ill-defined and being set to 0.0 in labels with no predicted samples. Use `zero_division` parameter to control this behavior.\n",
      "  _warn_prf(average, modifier, msg_start, len(result))\n",
      "/Users/tom/anaconda3/lib/python3.10/site-packages/sklearn/metrics/_classification.py:1471: UndefinedMetricWarning: Precision and F-score are ill-defined and being set to 0.0 in labels with no predicted samples. Use `zero_division` parameter to control this behavior.\n",
      "  _warn_prf(average, modifier, msg_start, len(result))\n",
      "/Users/tom/anaconda3/lib/python3.10/site-packages/sklearn/metrics/_classification.py:1471: UndefinedMetricWarning: Precision and F-score are ill-defined and being set to 0.0 in labels with no predicted samples. Use `zero_division` parameter to control this behavior.\n",
      "  _warn_prf(average, modifier, msg_start, len(result))\n",
      "/Users/tom/anaconda3/lib/python3.10/site-packages/sklearn/metrics/_classification.py:1471: UndefinedMetricWarning: Precision and F-score are ill-defined and being set to 0.0 in labels with no predicted samples. Use `zero_division` parameter to control this behavior.\n",
      "  _warn_prf(average, modifier, msg_start, len(result))\n",
      "/Users/tom/anaconda3/lib/python3.10/site-packages/sklearn/metrics/_classification.py:1471: UndefinedMetricWarning: Precision and F-score are ill-defined and being set to 0.0 in labels with no predicted samples. Use `zero_division` parameter to control this behavior.\n",
      "  _warn_prf(average, modifier, msg_start, len(result))\n",
      "/Users/tom/anaconda3/lib/python3.10/site-packages/sklearn/metrics/_classification.py:1471: UndefinedMetricWarning: Precision and F-score are ill-defined and being set to 0.0 in labels with no predicted samples. Use `zero_division` parameter to control this behavior.\n",
      "  _warn_prf(average, modifier, msg_start, len(result))\n",
      "/Users/tom/anaconda3/lib/python3.10/site-packages/sklearn/metrics/_classification.py:1471: UndefinedMetricWarning: Precision and F-score are ill-defined and being set to 0.0 in labels with no predicted samples. Use `zero_division` parameter to control this behavior.\n",
      "  _warn_prf(average, modifier, msg_start, len(result))\n"
     ]
    }
   ],
   "source": [
    "model0 = load_model('model0/')\n",
    "\n",
    "test_pred, test_prob, train_pred, train_prob, val_pred, val_prob = predict_lstm(X_train, X_val, X_test, model0)\n",
    "classification_results(y_test, y_train, y_val, model0, train_pred, val_pred, test_pred, train_prob, val_prob, test_prob)"
   ]
  },
  {
   "cell_type": "code",
   "execution_count": null,
   "metadata": {},
   "outputs": [],
   "source": []
  }
 ],
 "metadata": {
  "kernelspec": {
   "display_name": "base",
   "language": "python",
   "name": "python3"
  },
  "language_info": {
   "codemirror_mode": {
    "name": "ipython",
    "version": 3
   },
   "file_extension": ".py",
   "mimetype": "text/x-python",
   "name": "python",
   "nbconvert_exporter": "python",
   "pygments_lexer": "ipython3",
   "version": "3.10.9"
  }
 },
 "nbformat": 4,
 "nbformat_minor": 2
}
